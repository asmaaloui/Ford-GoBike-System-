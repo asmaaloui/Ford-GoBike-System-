{
 "cells": [
  {
   "cell_type": "markdown",
   "metadata": {
    "slideshow": {
     "slide_type": "slide"
    }
   },
   "source": [
    "# Part II - (Presentation Title)\n",
    "## by (Asma Aloui)"
   ]
  },
  {
   "cell_type": "markdown",
   "metadata": {
    "slideshow": {
     "slide_type": "slide"
    }
   },
   "source": [
    "## Investigation Overview\n",
    "In this investigation, I wanted to look at the relationship between the time spent on the rideshare and the gender of the users. I will also be looking at the same time spent on the rideshare feature and the agegroup of the users.\n",
    "\n",
    "\n",
    "## Dataset Overview\n",
    "\n",
    "The dataset used here is the cleaned version of the dataset used in part 1."
   ]
  },
  {
   "cell_type": "code",
   "execution_count": null,
   "metadata": {
    "slideshow": {
     "slide_type": "skip"
    }
   },
   "outputs": [],
   "source": [
    "# import all packages and set plots to be embedded inline\n",
    "import numpy as np\n",
    "import pandas as pd\n",
    "import matplotlib.pyplot as plt\n",
    "import seaborn as sns\n",
    "\n",
    "%matplotlib inline\n",
    "\n",
    "# suppress warnings from final output\n",
    "import warnings\n",
    "warnings.simplefilter(\"ignore\")"
   ]
  },
  {
   "cell_type": "code",
   "execution_count": null,
   "metadata": {
    "slideshow": {
     "slide_type": "skip"
    }
   },
   "outputs": [],
   "source": [
    "# load in the dataset into a pandas dataframe\n",
    "df = pd.read_csv('201902-fordgobike-tripdata.csv')\n",
    "df.head()"
   ]
  },
  {
   "cell_type": "markdown",
   "metadata": {
    "slideshow": {
     "slide_type": "slide"
    }
   },
   "source": [
    "## ( Distribution of User Gender)\n",
    "The plot shows that majority of the bike rideshare users are male, while less than half are female and a very small portion of the users have undisclosed gender. It also shows that the male users spend the most time on the rideshare"
   ]
  },
  {
   "cell_type": "code",
   "execution_count": null,
   "metadata": {
    "slideshow": {
     "slide_type": "subslide"
    }
   },
   "outputs": [],
   "source": [
    "sb.kdeplot(x='duration_sec', data=bike_df, hue='member_gender')\n",
    "plt.title('distribution of user gender and time spent on rideshare')"
   ]
  },
  {
   "cell_type": "markdown",
   "metadata": {
    "collapsed": true,
    "slideshow": {
     "slide_type": "slide"
    }
   },
   "source": [
    "## (Distribution of Age Group)\n",
    "\n",
    "The plot shows that majority of the bike rideshare users are in the old group of the age group, followed by those in midlife and then those in the young group, while the very old and very young are very few. The second plot also shows that those in the old group spend the most time on the rideshare"
   ]
  },
  {
   "cell_type": "code",
   "execution_count": null,
   "metadata": {
    "slideshow": {
     "slide_type": "subslide"
    }
   },
   "outputs": [],
   "source": [
    "bike_df['AgeGroup'].value_counts().plot(kind='pie', title='Pie chart of AgeGroup ', figsize= (8,8));"
   ]
  },
  {
   "cell_type": "code",
   "execution_count": null,
   "metadata": {},
   "outputs": [],
   "source": [
    "sb.kdeplot(x='duration_sec', data=bike_df, hue='AgeGroup')\n",
    "plt.title('distribution of agegroup and time spent on rideshare')"
   ]
  },
  {
   "cell_type": "markdown",
   "metadata": {
    "slideshow": {
     "slide_type": "slide"
    }
   },
   "source": [
    "## (Corelation between the age group of users and the time spent on the rideshare)\n",
    "\n",
    "This shows a corelation between the time spent on the rideshare and the age group of the users. This further describes what was shown in the other slide, that the majority of the users are old and also spent the most amount of time on the rideshare."
   ]
  },
  {
   "cell_type": "code",
   "execution_count": null,
   "metadata": {
    "slideshow": {
     "slide_type": "subslide"
    }
   },
   "outputs": [],
   "source": [
    "g = sb.FacetGrid(data = bike_df, hue = 'AgeGroup', height = 5)\n",
    "g.map(plt.scatter, 'duration_sec', 'member_birth_year')\n",
    "g.add_legend()\n",
    "plt.title('facetgrid of agegroup distribution and time spent on rideshare')"
   ]
  },
  {
   "cell_type": "markdown",
   "metadata": {
    "slideshow": {
     "slide_type": "skip"
    }
   },
   "source": [
    "### Generate Slideshow\n",
    "Run the command below to generate the HTML slideshow."
   ]
  },
  {
   "cell_type": "code",
   "execution_count": null,
   "metadata": {
    "slideshow": {
     "slide_type": "skip"
    }
   },
   "outputs": [],
   "source": [
    "# Use this command if you are running this file in local\n",
    "!jupyter nbconvert <Part_II_Filename>.ipynb --to slides --post serve --no-input --no-prompt"
   ]
  },
  {
   "cell_type": "markdown",
   "metadata": {
    "slideshow": {
     "slide_type": "skip"
    }
   },
   "source": [
    "> In the classroom workspace, the generated HTML slideshow will be placed in the home folder. \n",
    "\n",
    "> In local machines, the command above should open a tab in your web browser where you can scroll through your presentation. Sub-slides can be accessed by pressing 'down' when viewing its parent slide. Make sure you remove all of the quote-formatted guide notes like this one before you finish your presentation! At last, you can stop the Kernel. "
   ]
  },
  {
   "cell_type": "markdown",
   "metadata": {},
   "source": [
    "### Submission\n",
    "If you are using classroom workspace, you can choose from the following two ways of submission:\n",
    "\n",
    "1. **Submit from the workspace**. Make sure you have removed the example project from the /home/workspace directory. You must submit the following files:\n",
    "   - Part_I_notebook.ipynb\n",
    "   - Part_I_notebook.html or pdf\n",
    "   - Part_II_notebook.ipynb\n",
    "   - Part_I_slides.html\n",
    "   - README.md\n",
    "   - dataset (optional)\n",
    "\n",
    "\n",
    "2. **Submit a zip file on the last page of this project lesson**. In this case, open the Jupyter terminal and run the command below to generate a ZIP file. \n",
    "```bash\n",
    "zip -r my_project.zip .\n",
    "```\n",
    "The command abobve will ZIP every file present in your /home/workspace directory. Next, you can download the zip to your local, and follow the instructions on the last page of this project lesson.\n"
   ]
  },
  {
   "cell_type": "code",
   "execution_count": null,
   "metadata": {},
   "outputs": [],
   "source": []
  }
 ],
 "metadata": {
  "celltoolbar": "Slideshow",
  "kernelspec": {
   "display_name": "Python 3",
   "language": "python",
   "name": "python3"
  },
  "language_info": {
   "codemirror_mode": {
    "name": "ipython",
    "version": 3
   },
   "file_extension": ".py",
   "mimetype": "text/x-python",
   "name": "python",
   "nbconvert_exporter": "python",
   "pygments_lexer": "ipython3",
   "version": "3.6.3"
  }
 },
 "nbformat": 4,
 "nbformat_minor": 2
}
